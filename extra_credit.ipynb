{
 "cells": [
  {
   "cell_type": "code",
   "execution_count": 75,
   "metadata": {},
   "outputs": [],
   "source": [
    "from string import (ascii_lowercase, ascii_uppercase)\n",
    "\n",
    "#creating a list of dictionaries\n",
    "alphabet_data=[]\n",
    "\n",
    "#create a string object that contains lowercase letters \n",
    "lower_case = list(ascii_lowercase)\n",
    "\n",
    "#create a string object that contains uppercase letters \n",
    "upper_case = list(ascii_uppercase)\n",
    "\n",
    "#create a string object that contains numbers  \n",
    "index = range(0,26)\n",
    "\n",
    "for i in index:\n",
    "    temp = {\"lower\":lower_case[i],\"upper\":upper_case[i],\"index\":index[i]}\n",
    "    alphabet_data.append(temp)\n",
    "\n",
    "alphabet_data\n",
    "\n",
    "import pandas as pd\n",
    "alphabet_df = pd.DataFrame(alphabet_data)\n"
   ]
  },
  {
   "cell_type": "code",
   "execution_count": 77,
   "metadata": {},
   "outputs": [
    {
     "data": {
      "text/plain": [
       "[{'book_title': 'AMERICANAH'},\n",
       " {'book_title': 'KILLERS OF THE FLOWER MOON'},\n",
       " {'book_title': 'WALK TWO MOONS'},\n",
       " {'book_title': 'NATIVE SPEAKER'},\n",
       " {'book_title': 'ALL YOU CAN EVER KNOW'}]"
      ]
     },
     "execution_count": 77,
     "metadata": {},
     "output_type": "execute_result"
    }
   ],
   "source": [
    "upper_my_favorite_books = []\n",
    "titles = [\"Americanah\",\"Killers Of The Flower Moon\",\"Walk Two Moons\",\"Native Speaker\",\"All you can ever know\"]\n",
    "\n",
    "for title in titles: \n",
    "    temp = title.upper()\n",
    "    upper_my_favorite_books.append(temp)\n",
    "\n",
    "index = range(0,5)\n",
    "final_list=[]\n",
    "for title in index:\n",
    "    temp = {\"book_title\":upper_my_favorite_books[title]}\n",
    "    final_list.append(temp)\n",
    "final_list"
   ]
  },
  {
   "cell_type": "code",
   "execution_count": null,
   "metadata": {},
   "outputs": [],
   "source": []
  }
 ],
 "metadata": {
  "kernelspec": {
   "display_name": "learn-env",
   "language": "python",
   "name": "learn-env"
  },
  "language_info": {
   "codemirror_mode": {
    "name": "ipython",
    "version": 3
   },
   "file_extension": ".py",
   "mimetype": "text/x-python",
   "name": "python",
   "nbconvert_exporter": "python",
   "pygments_lexer": "ipython3",
   "version": "3.6.6"
  }
 },
 "nbformat": 4,
 "nbformat_minor": 2
}
